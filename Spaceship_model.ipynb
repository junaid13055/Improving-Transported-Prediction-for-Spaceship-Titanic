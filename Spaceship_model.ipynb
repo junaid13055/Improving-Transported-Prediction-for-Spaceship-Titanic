{
  "nbformat": 4,
  "nbformat_minor": 0,
  "metadata": {
    "colab": {
      "provenance": []
    },
    "kernelspec": {
      "name": "python3",
      "display_name": "Python 3"
    },
    "language_info": {
      "name": "python"
    }
  },
  "cells": [
    {
      "cell_type": "code",
      "execution_count": null,
      "metadata": {
        "colab": {
          "base_uri": "https://localhost:8080/"
        },
        "id": "g8PlacnZ6EZa",
        "outputId": "5f6e28f1-a481-4001-8e93-c7c1508f8bbc"
      },
      "outputs": [
        {
          "output_type": "stream",
          "name": "stderr",
          "text": [
            "/tmp/ipython-input-2-3717494810.py:55: SettingWithCopyWarning: \n",
            "A value is trying to be set on a copy of a slice from a DataFrame.\n",
            "Try using .loc[row_indexer,col_indexer] = value instead\n",
            "\n",
            "See the caveats in the documentation: https://pandas.pydata.org/pandas-docs/stable/user_guide/indexing.html#returning-a-view-versus-a-copy\n",
            "  train['Transported'] = train['Transported'].astype(bool)\n"
          ]
        },
        {
          "output_type": "stream",
          "name": "stdout",
          "text": [
            "Optimal Threshold: 0.4500\n",
            "submission saved as 'submission_catboost_boosted.csv'\n"
          ]
        }
      ],
      "source": [
        "!pip install catboost openpyxl --quiet\n",
        "\n",
        "# Imports\n",
        "import pandas as pd\n",
        "import numpy as np\n",
        "from sklearn.model_selection import StratifiedKFold\n",
        "from sklearn.preprocessing import LabelEncoder\n",
        "from catboost import CatBoostClassifier\n",
        "from sklearn.metrics import f1_score\n",
        "\n",
        "\n",
        "\n",
        "# Load Data\n",
        "train = pd.read_excel(\"/content/train.xlsx\")\n",
        "test = pd.read_excel(\"/content/test.xlsx\")\n",
        "submission = pd.read_excel(\"/content/sample_submission.xlsx\")\n",
        "\n",
        "# Combine for preprocessing\n",
        "train['is_train'] = 1\n",
        "test['is_train'] = 0\n",
        "test['Transported'] = np.nan\n",
        "df = pd.concat([train, test])\n",
        "\n",
        "# --- Feature Engineering ---\n",
        "df[['Deck', 'Num', 'Side']] = df['Cabin'].str.split('/', expand=True)\n",
        "\n",
        "# New features\n",
        "df['TotalSpend'] = df[['RoomService','FoodCourt','ShoppingMall','Spa','VRDeck']].sum(axis=1)\n",
        "df['NoSpending'] = df['TotalSpend'] == 0\n",
        "df['FamilyGroup'] = df['PassengerId'].str.split('_').str[0]\n",
        "df['Solo'] = df['FamilyGroup'].map(df['FamilyGroup'].value_counts()) == 1\n",
        "\n",
        "# Fill missing values\n",
        "num_cols = ['Age', 'RoomService','FoodCourt','ShoppingMall','Spa','VRDeck']\n",
        "df[num_cols] = df[num_cols].fillna(df[num_cols].median())\n",
        "df['HomePlanet'] = df['HomePlanet'].fillna('Earth')\n",
        "df['CryoSleep'] = df['CryoSleep'].fillna(False)\n",
        "df['Deck'] = df['Deck'].fillna('F')\n",
        "df['Side'] = df['Side'].fillna('S')\n",
        "df['VIP'] = df['VIP'].fillna(False)\n",
        "df['Destination'] = df['Destination'].fillna('TRAPPIST-1e')\n",
        "df['Name'] = df['Name'].fillna('Unknown')\n",
        "\n",
        "# Encode categoricals\n",
        "cat_cols = ['HomePlanet','CryoSleep','VIP','Deck','Side','Destination','NoSpending','Solo']\n",
        "for col in cat_cols:\n",
        "    df[col] = LabelEncoder().fit_transform(df[col].astype(str))\n",
        "\n",
        "# Drop unused columns\n",
        "df = df.drop(['PassengerId','Name','Cabin','Num','FamilyGroup','is_train'], axis=1)\n",
        "\n",
        "# Split back\n",
        "train = df[:len(train)]\n",
        "test = df[len(train):].drop(columns='Transported')\n",
        "train['Transported'] = train['Transported'].astype(bool)\n",
        "\n",
        "\n",
        "X = train.drop(columns='Transported')\n",
        "y = train['Transported']\n",
        "\n",
        "test_X = test.copy()\n",
        "\n",
        "kf = StratifiedKFold(n_splits=5, shuffle=True, random_state=42)\n",
        "test_preds = np.zeros(len(test))\n",
        "val_preds = np.zeros(len(train))\n",
        "thresholds = []\n",
        "\n",
        "for fold, (train_idx, val_idx) in enumerate(kf.split(X, y)):\n",
        "    X_train, X_val = X.iloc[train_idx], X.iloc[val_idx]\n",
        "    y_train, y_val = y.iloc[train_idx], y.iloc[val_idx]\n",
        "\n",
        "    model = CatBoostClassifier(\n",
        "        iterations=1500,\n",
        "        learning_rate=0.02,\n",
        "        depth=8,\n",
        "        l2_leaf_reg=3,\n",
        "        eval_metric='Accuracy',\n",
        "        random_seed=42,\n",
        "        verbose=0\n",
        "    )\n",
        "\n",
        "    model.fit(X_train, y_train, eval_set=(X_val, y_val), early_stopping_rounds=100)\n",
        "\n",
        "    val_prob = model.predict_proba(X_val)[:, 1]\n",
        "    test_prob = model.predict_proba(test_X)[:, 1]\n",
        "\n",
        "    # Optimize threshold per fold\n",
        "    best_thresh = 0.5\n",
        "    best_f1 = 0\n",
        "    for t in np.arange(0.40, 0.60, 0.01):\n",
        "        score = f1_score(y_val, val_prob > t)\n",
        "        if score > best_f1:\n",
        "            best_f1 = score\n",
        "            best_thresh = t\n",
        "    thresholds.append(best_thresh)\n",
        "\n",
        "    val_preds[val_idx] = val_prob\n",
        "    test_preds += test_prob / kf.n_splits\n",
        "\n",
        "# Use average optimized threshold\n",
        "final_threshold = np.mean(thresholds)\n",
        "print(f\"Optimal Threshold: {final_threshold:.4f}\")\n",
        "\n",
        "submission['Transported'] = test_preds > final_threshold\n",
        "submission.to_csv(\"submission_catboost_boosted.csv\", index=False)\n",
        "print(\"submission saved as 'submission_catboost_boosted.csv'\")\n"
      ]
    }
  ]
}